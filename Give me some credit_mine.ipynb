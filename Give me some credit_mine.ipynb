{
 "cells": [
  {
   "cell_type": "code",
   "execution_count": 33,
   "metadata": {},
   "outputs": [],
   "source": [
    "import pandas as pd\n",
    "import numpy as np\n",
    "import seaborn as sns\n",
    "import matplotlib.pyplot as plt"
   ]
  },
  {
   "cell_type": "markdown",
   "metadata": {},
   "source": [
    "## Data preprocessing - training data"
   ]
  },
  {
   "cell_type": "code",
   "execution_count": 34,
   "metadata": {},
   "outputs": [],
   "source": [
    "df = pd.read_csv(\"cs-training.csv\",index_col = False)#even after passing index_col = False it doesn't remove index"
   ]
  },
  {
   "cell_type": "code",
   "execution_count": 35,
   "metadata": {},
   "outputs": [
    {
     "data": {
      "text/html": [
       "<div>\n",
       "<style scoped>\n",
       "    .dataframe tbody tr th:only-of-type {\n",
       "        vertical-align: middle;\n",
       "    }\n",
       "\n",
       "    .dataframe tbody tr th {\n",
       "        vertical-align: top;\n",
       "    }\n",
       "\n",
       "    .dataframe thead th {\n",
       "        text-align: right;\n",
       "    }\n",
       "</style>\n",
       "<table border=\"1\" class=\"dataframe\">\n",
       "  <thead>\n",
       "    <tr style=\"text-align: right;\">\n",
       "      <th></th>\n",
       "      <th>Unnamed: 0</th>\n",
       "      <th>SeriousDlqin2yrs</th>\n",
       "      <th>RevolvingUtilizationOfUnsecuredLines</th>\n",
       "      <th>age</th>\n",
       "      <th>NumberOfTime30-59DaysPastDueNotWorse</th>\n",
       "      <th>DebtRatio</th>\n",
       "      <th>MonthlyIncome</th>\n",
       "      <th>NumberOfOpenCreditLinesAndLoans</th>\n",
       "      <th>NumberOfTimes90DaysLate</th>\n",
       "      <th>NumberRealEstateLoansOrLines</th>\n",
       "      <th>NumberOfTime60-89DaysPastDueNotWorse</th>\n",
       "      <th>NumberOfDependents</th>\n",
       "    </tr>\n",
       "  </thead>\n",
       "  <tbody>\n",
       "    <tr>\n",
       "      <th>0</th>\n",
       "      <td>1</td>\n",
       "      <td>1</td>\n",
       "      <td>0.766127</td>\n",
       "      <td>45</td>\n",
       "      <td>2</td>\n",
       "      <td>0.802982</td>\n",
       "      <td>9120.0</td>\n",
       "      <td>13</td>\n",
       "      <td>0</td>\n",
       "      <td>6</td>\n",
       "      <td>0</td>\n",
       "      <td>2.0</td>\n",
       "    </tr>\n",
       "    <tr>\n",
       "      <th>1</th>\n",
       "      <td>2</td>\n",
       "      <td>0</td>\n",
       "      <td>0.957151</td>\n",
       "      <td>40</td>\n",
       "      <td>0</td>\n",
       "      <td>0.121876</td>\n",
       "      <td>2600.0</td>\n",
       "      <td>4</td>\n",
       "      <td>0</td>\n",
       "      <td>0</td>\n",
       "      <td>0</td>\n",
       "      <td>1.0</td>\n",
       "    </tr>\n",
       "    <tr>\n",
       "      <th>2</th>\n",
       "      <td>3</td>\n",
       "      <td>0</td>\n",
       "      <td>0.658180</td>\n",
       "      <td>38</td>\n",
       "      <td>1</td>\n",
       "      <td>0.085113</td>\n",
       "      <td>3042.0</td>\n",
       "      <td>2</td>\n",
       "      <td>1</td>\n",
       "      <td>0</td>\n",
       "      <td>0</td>\n",
       "      <td>0.0</td>\n",
       "    </tr>\n",
       "    <tr>\n",
       "      <th>3</th>\n",
       "      <td>4</td>\n",
       "      <td>0</td>\n",
       "      <td>0.233810</td>\n",
       "      <td>30</td>\n",
       "      <td>0</td>\n",
       "      <td>0.036050</td>\n",
       "      <td>3300.0</td>\n",
       "      <td>5</td>\n",
       "      <td>0</td>\n",
       "      <td>0</td>\n",
       "      <td>0</td>\n",
       "      <td>0.0</td>\n",
       "    </tr>\n",
       "    <tr>\n",
       "      <th>4</th>\n",
       "      <td>5</td>\n",
       "      <td>0</td>\n",
       "      <td>0.907239</td>\n",
       "      <td>49</td>\n",
       "      <td>1</td>\n",
       "      <td>0.024926</td>\n",
       "      <td>63588.0</td>\n",
       "      <td>7</td>\n",
       "      <td>0</td>\n",
       "      <td>1</td>\n",
       "      <td>0</td>\n",
       "      <td>0.0</td>\n",
       "    </tr>\n",
       "  </tbody>\n",
       "</table>\n",
       "</div>"
      ],
      "text/plain": [
       "   Unnamed: 0  SeriousDlqin2yrs  RevolvingUtilizationOfUnsecuredLines  age  \\\n",
       "0           1                 1                              0.766127   45   \n",
       "1           2                 0                              0.957151   40   \n",
       "2           3                 0                              0.658180   38   \n",
       "3           4                 0                              0.233810   30   \n",
       "4           5                 0                              0.907239   49   \n",
       "\n",
       "   NumberOfTime30-59DaysPastDueNotWorse  DebtRatio  MonthlyIncome  \\\n",
       "0                                     2   0.802982         9120.0   \n",
       "1                                     0   0.121876         2600.0   \n",
       "2                                     1   0.085113         3042.0   \n",
       "3                                     0   0.036050         3300.0   \n",
       "4                                     1   0.024926        63588.0   \n",
       "\n",
       "   NumberOfOpenCreditLinesAndLoans  NumberOfTimes90DaysLate  \\\n",
       "0                               13                        0   \n",
       "1                                4                        0   \n",
       "2                                2                        1   \n",
       "3                                5                        0   \n",
       "4                                7                        0   \n",
       "\n",
       "   NumberRealEstateLoansOrLines  NumberOfTime60-89DaysPastDueNotWorse  \\\n",
       "0                             6                                     0   \n",
       "1                             0                                     0   \n",
       "2                             0                                     0   \n",
       "3                             0                                     0   \n",
       "4                             1                                     0   \n",
       "\n",
       "   NumberOfDependents  \n",
       "0                 2.0  \n",
       "1                 1.0  \n",
       "2                 0.0  \n",
       "3                 0.0  \n",
       "4                 0.0  "
      ]
     },
     "execution_count": 35,
     "metadata": {},
     "output_type": "execute_result"
    }
   ],
   "source": [
    "df.head()"
   ]
  },
  {
   "cell_type": "code",
   "execution_count": 36,
   "metadata": {},
   "outputs": [
    {
     "data": {
      "text/plain": [
       "Index(['Unnamed: 0', 'SeriousDlqin2yrs',\n",
       "       'RevolvingUtilizationOfUnsecuredLines', 'age',\n",
       "       'NumberOfTime30-59DaysPastDueNotWorse', 'DebtRatio', 'MonthlyIncome',\n",
       "       'NumberOfOpenCreditLinesAndLoans', 'NumberOfTimes90DaysLate',\n",
       "       'NumberRealEstateLoansOrLines', 'NumberOfTime60-89DaysPastDueNotWorse',\n",
       "       'NumberOfDependents'],\n",
       "      dtype='object')"
      ]
     },
     "execution_count": 36,
     "metadata": {},
     "output_type": "execute_result"
    }
   ],
   "source": [
    "df.columns"
   ]
  },
  {
   "cell_type": "code",
   "execution_count": 37,
   "metadata": {},
   "outputs": [],
   "source": [
    "df = df.drop(['Unnamed: 0'], axis = 1)"
   ]
  },
  {
   "cell_type": "code",
   "execution_count": 38,
   "metadata": {},
   "outputs": [
    {
     "data": {
      "text/plain": [
       "Index(['SeriousDlqin2yrs', 'RevolvingUtilizationOfUnsecuredLines', 'age',\n",
       "       'NumberOfTime30-59DaysPastDueNotWorse', 'DebtRatio', 'MonthlyIncome',\n",
       "       'NumberOfOpenCreditLinesAndLoans', 'NumberOfTimes90DaysLate',\n",
       "       'NumberRealEstateLoansOrLines', 'NumberOfTime60-89DaysPastDueNotWorse',\n",
       "       'NumberOfDependents'],\n",
       "      dtype='object')"
      ]
     },
     "execution_count": 38,
     "metadata": {},
     "output_type": "execute_result"
    }
   ],
   "source": [
    "df.columns"
   ]
  },
  {
   "cell_type": "code",
   "execution_count": 39,
   "metadata": {},
   "outputs": [],
   "source": [
    "# SeriousDlqin2yrs - Person experienced 90 days past due delinquency or worse (DL_90+)\n",
    "# RevolvingUtilizationOfUnsecuredLines - Total balance on credit cards and personal lines of credit except \n",
    "#                                        real estate and no installment debt like car loans divided by the \n",
    "#                                        sum of credit limits(creditbalance/limits)\n",
    "# age - Age of borrower in years(age)\n",
    "# NumberOfTime30-59DaysPastDueNotWorse - Number of times borrower has been 30-59 days past due but no worse in the \n",
    "#                                        last 2 years (no.pastdue_30-59)\n",
    "# DebtRatio - Monthly debt payments, alimony,living costs divided by monthy gross income (DebtRatio)\n",
    "# MonthlyIncome - Monthly income (MonthlyIncome)\n",
    "# NumberOfOpenCreditLinesAndLoans - Number of Open loans (installment like car loan or mortgage) \n",
    "#                                   and Lines of credit (e.g. credit cards) (no.of openloans)\n",
    "# NumberOfTimes90DaysLate - Number of times borrower has been 90 days or more past due. (no.pasdue_90+)\n",
    "# NumberRealEstateLoansOrLines - Number of mortgage and real estate loans including home equity lines of credit\n",
    "#                                (no.of mortgage)\n",
    "# NumberOfTime60-89DaysPastDueNotWorse - Number of times borrower has been 60-89 days past due but \n",
    "#                                        no worse in the last 2 years. (no.pasdue_60-89)\n",
    "# NumberOfDependents - Number of dependents in family excluding themselves (spouse, children etc.) (no.dependents)"
   ]
  },
  {
   "cell_type": "code",
   "execution_count": 40,
   "metadata": {},
   "outputs": [],
   "source": [
    "df.rename(columns = {'SeriousDlqin2yrs':'DL_90', 'RevolvingUtilizationOfUnsecuredLines':'creditbalance/limits',\n",
    "       'NumberOfTime30-59DaysPastDueNotWorse':'no.pastdue_30-59', \n",
    "       'NumberOfOpenCreditLinesAndLoans':'no.of openloans', 'NumberOfTimes90DaysLate':'no.pasdue_90+',\n",
    "       'NumberRealEstateLoansOrLines':'no.of mortgage', 'NumberOfTime60-89DaysPastDueNotWorse':'no.pasdue_60-89',\n",
    "       'NumberOfDependents':'no.dependents'}, inplace = True)"
   ]
  },
  {
   "cell_type": "code",
   "execution_count": 41,
   "metadata": {},
   "outputs": [
    {
     "data": {
      "text/html": [
       "<div>\n",
       "<style scoped>\n",
       "    .dataframe tbody tr th:only-of-type {\n",
       "        vertical-align: middle;\n",
       "    }\n",
       "\n",
       "    .dataframe tbody tr th {\n",
       "        vertical-align: top;\n",
       "    }\n",
       "\n",
       "    .dataframe thead th {\n",
       "        text-align: right;\n",
       "    }\n",
       "</style>\n",
       "<table border=\"1\" class=\"dataframe\">\n",
       "  <thead>\n",
       "    <tr style=\"text-align: right;\">\n",
       "      <th></th>\n",
       "      <th>DL_90</th>\n",
       "      <th>creditbalance/limits</th>\n",
       "      <th>age</th>\n",
       "      <th>no.pastdue_30-59</th>\n",
       "      <th>DebtRatio</th>\n",
       "      <th>MonthlyIncome</th>\n",
       "      <th>no.of openloans</th>\n",
       "      <th>no.pasdue_90+</th>\n",
       "      <th>no.of mortgage</th>\n",
       "      <th>no.pasdue_60-89</th>\n",
       "      <th>no.dependents</th>\n",
       "    </tr>\n",
       "  </thead>\n",
       "  <tbody>\n",
       "    <tr>\n",
       "      <th>0</th>\n",
       "      <td>1</td>\n",
       "      <td>0.766127</td>\n",
       "      <td>45</td>\n",
       "      <td>2</td>\n",
       "      <td>0.802982</td>\n",
       "      <td>9120.0</td>\n",
       "      <td>13</td>\n",
       "      <td>0</td>\n",
       "      <td>6</td>\n",
       "      <td>0</td>\n",
       "      <td>2.0</td>\n",
       "    </tr>\n",
       "    <tr>\n",
       "      <th>1</th>\n",
       "      <td>0</td>\n",
       "      <td>0.957151</td>\n",
       "      <td>40</td>\n",
       "      <td>0</td>\n",
       "      <td>0.121876</td>\n",
       "      <td>2600.0</td>\n",
       "      <td>4</td>\n",
       "      <td>0</td>\n",
       "      <td>0</td>\n",
       "      <td>0</td>\n",
       "      <td>1.0</td>\n",
       "    </tr>\n",
       "    <tr>\n",
       "      <th>2</th>\n",
       "      <td>0</td>\n",
       "      <td>0.658180</td>\n",
       "      <td>38</td>\n",
       "      <td>1</td>\n",
       "      <td>0.085113</td>\n",
       "      <td>3042.0</td>\n",
       "      <td>2</td>\n",
       "      <td>1</td>\n",
       "      <td>0</td>\n",
       "      <td>0</td>\n",
       "      <td>0.0</td>\n",
       "    </tr>\n",
       "    <tr>\n",
       "      <th>3</th>\n",
       "      <td>0</td>\n",
       "      <td>0.233810</td>\n",
       "      <td>30</td>\n",
       "      <td>0</td>\n",
       "      <td>0.036050</td>\n",
       "      <td>3300.0</td>\n",
       "      <td>5</td>\n",
       "      <td>0</td>\n",
       "      <td>0</td>\n",
       "      <td>0</td>\n",
       "      <td>0.0</td>\n",
       "    </tr>\n",
       "    <tr>\n",
       "      <th>4</th>\n",
       "      <td>0</td>\n",
       "      <td>0.907239</td>\n",
       "      <td>49</td>\n",
       "      <td>1</td>\n",
       "      <td>0.024926</td>\n",
       "      <td>63588.0</td>\n",
       "      <td>7</td>\n",
       "      <td>0</td>\n",
       "      <td>1</td>\n",
       "      <td>0</td>\n",
       "      <td>0.0</td>\n",
       "    </tr>\n",
       "  </tbody>\n",
       "</table>\n",
       "</div>"
      ],
      "text/plain": [
       "   DL_90  creditbalance/limits  age  no.pastdue_30-59  DebtRatio  \\\n",
       "0      1              0.766127   45                 2   0.802982   \n",
       "1      0              0.957151   40                 0   0.121876   \n",
       "2      0              0.658180   38                 1   0.085113   \n",
       "3      0              0.233810   30                 0   0.036050   \n",
       "4      0              0.907239   49                 1   0.024926   \n",
       "\n",
       "   MonthlyIncome  no.of openloans  no.pasdue_90+  no.of mortgage  \\\n",
       "0         9120.0               13              0               6   \n",
       "1         2600.0                4              0               0   \n",
       "2         3042.0                2              1               0   \n",
       "3         3300.0                5              0               0   \n",
       "4        63588.0                7              0               1   \n",
       "\n",
       "   no.pasdue_60-89  no.dependents  \n",
       "0                0            2.0  \n",
       "1                0            1.0  \n",
       "2                0            0.0  \n",
       "3                0            0.0  \n",
       "4                0            0.0  "
      ]
     },
     "execution_count": 41,
     "metadata": {},
     "output_type": "execute_result"
    }
   ],
   "source": [
    "df.head()"
   ]
  },
  {
   "cell_type": "code",
   "execution_count": 42,
   "metadata": {},
   "outputs": [],
   "source": [
    "#it is a classification problem. Using all these features we have to predict the probability that\n",
    "#somebody will experience financial distress in the next two years to decide whether or not a loan should be granted.\n",
    "# will experience and won't experience are the two classes"
   ]
  },
  {
   "cell_type": "code",
   "execution_count": 43,
   "metadata": {},
   "outputs": [
    {
     "data": {
      "text/plain": [
       "(150000, 11)"
      ]
     },
     "execution_count": 43,
     "metadata": {},
     "output_type": "execute_result"
    }
   ],
   "source": [
    "df.shape"
   ]
  },
  {
   "cell_type": "code",
   "execution_count": 44,
   "metadata": {},
   "outputs": [
    {
     "name": "stdout",
     "output_type": "stream",
     "text": [
      "<class 'pandas.core.frame.DataFrame'>\n",
      "RangeIndex: 150000 entries, 0 to 149999\n",
      "Data columns (total 11 columns):\n",
      " #   Column                Non-Null Count   Dtype  \n",
      "---  ------                --------------   -----  \n",
      " 0   DL_90                 150000 non-null  int64  \n",
      " 1   creditbalance/limits  150000 non-null  float64\n",
      " 2   age                   150000 non-null  int64  \n",
      " 3   no.pastdue_30-59      150000 non-null  int64  \n",
      " 4   DebtRatio             150000 non-null  float64\n",
      " 5   MonthlyIncome         120269 non-null  float64\n",
      " 6   no.of openloans       150000 non-null  int64  \n",
      " 7   no.pasdue_90+         150000 non-null  int64  \n",
      " 8   no.of mortgage        150000 non-null  int64  \n",
      " 9   no.pasdue_60-89       150000 non-null  int64  \n",
      " 10  no.dependents         146076 non-null  float64\n",
      "dtypes: float64(4), int64(7)\n",
      "memory usage: 12.6 MB\n"
     ]
    }
   ],
   "source": [
    "df.info()"
   ]
  },
  {
   "cell_type": "markdown",
   "metadata": {},
   "source": [
    "## Taking care of missing values"
   ]
  },
  {
   "cell_type": "code",
   "execution_count": 45,
   "metadata": {},
   "outputs": [
    {
     "data": {
      "text/plain": [
       "DL_90                       0\n",
       "creditbalance/limits        0\n",
       "age                         0\n",
       "no.pastdue_30-59            0\n",
       "DebtRatio                   0\n",
       "MonthlyIncome           29731\n",
       "no.of openloans             0\n",
       "no.pasdue_90+               0\n",
       "no.of mortgage              0\n",
       "no.pasdue_60-89             0\n",
       "no.dependents            3924\n",
       "dtype: int64"
      ]
     },
     "execution_count": 45,
     "metadata": {},
     "output_type": "execute_result"
    }
   ],
   "source": [
    "df.isnull().sum()"
   ]
  },
  {
   "cell_type": "code",
   "execution_count": 46,
   "metadata": {},
   "outputs": [],
   "source": [
    "from sklearn.impute import SimpleImputer\n",
    "imputer = SimpleImputer(missing_values=np.nan,strategy=\"mean\")\n",
    "imputer.fit(df.loc[:,['MonthlyIncome','no.dependents']])\n",
    "df.loc[:,['MonthlyIncome','no.dependents']] = imputer.transform(df.loc[:,['MonthlyIncome','no.dependents']])"
   ]
  },
  {
   "cell_type": "code",
   "execution_count": 47,
   "metadata": {},
   "outputs": [
    {
     "data": {
      "text/plain": [
       "DL_90                   0\n",
       "creditbalance/limits    0\n",
       "age                     0\n",
       "no.pastdue_30-59        0\n",
       "DebtRatio               0\n",
       "MonthlyIncome           0\n",
       "no.of openloans         0\n",
       "no.pasdue_90+           0\n",
       "no.of mortgage          0\n",
       "no.pasdue_60-89         0\n",
       "no.dependents           0\n",
       "dtype: int64"
      ]
     },
     "execution_count": 47,
     "metadata": {},
     "output_type": "execute_result"
    }
   ],
   "source": [
    "df.isnull().sum()"
   ]
  },
  {
   "cell_type": "code",
   "execution_count": 48,
   "metadata": {},
   "outputs": [],
   "source": [
    "x_train = df.iloc[:,1:11]"
   ]
  },
  {
   "cell_type": "code",
   "execution_count": 49,
   "metadata": {},
   "outputs": [
    {
     "data": {
      "text/html": [
       "<div>\n",
       "<style scoped>\n",
       "    .dataframe tbody tr th:only-of-type {\n",
       "        vertical-align: middle;\n",
       "    }\n",
       "\n",
       "    .dataframe tbody tr th {\n",
       "        vertical-align: top;\n",
       "    }\n",
       "\n",
       "    .dataframe thead th {\n",
       "        text-align: right;\n",
       "    }\n",
       "</style>\n",
       "<table border=\"1\" class=\"dataframe\">\n",
       "  <thead>\n",
       "    <tr style=\"text-align: right;\">\n",
       "      <th></th>\n",
       "      <th>creditbalance/limits</th>\n",
       "      <th>age</th>\n",
       "      <th>no.pastdue_30-59</th>\n",
       "      <th>DebtRatio</th>\n",
       "      <th>MonthlyIncome</th>\n",
       "      <th>no.of openloans</th>\n",
       "      <th>no.pasdue_90+</th>\n",
       "      <th>no.of mortgage</th>\n",
       "      <th>no.pasdue_60-89</th>\n",
       "      <th>no.dependents</th>\n",
       "    </tr>\n",
       "  </thead>\n",
       "  <tbody>\n",
       "    <tr>\n",
       "      <th>0</th>\n",
       "      <td>0.766127</td>\n",
       "      <td>45</td>\n",
       "      <td>2</td>\n",
       "      <td>0.802982</td>\n",
       "      <td>9120.0</td>\n",
       "      <td>13</td>\n",
       "      <td>0</td>\n",
       "      <td>6</td>\n",
       "      <td>0</td>\n",
       "      <td>2.0</td>\n",
       "    </tr>\n",
       "    <tr>\n",
       "      <th>1</th>\n",
       "      <td>0.957151</td>\n",
       "      <td>40</td>\n",
       "      <td>0</td>\n",
       "      <td>0.121876</td>\n",
       "      <td>2600.0</td>\n",
       "      <td>4</td>\n",
       "      <td>0</td>\n",
       "      <td>0</td>\n",
       "      <td>0</td>\n",
       "      <td>1.0</td>\n",
       "    </tr>\n",
       "    <tr>\n",
       "      <th>2</th>\n",
       "      <td>0.658180</td>\n",
       "      <td>38</td>\n",
       "      <td>1</td>\n",
       "      <td>0.085113</td>\n",
       "      <td>3042.0</td>\n",
       "      <td>2</td>\n",
       "      <td>1</td>\n",
       "      <td>0</td>\n",
       "      <td>0</td>\n",
       "      <td>0.0</td>\n",
       "    </tr>\n",
       "    <tr>\n",
       "      <th>3</th>\n",
       "      <td>0.233810</td>\n",
       "      <td>30</td>\n",
       "      <td>0</td>\n",
       "      <td>0.036050</td>\n",
       "      <td>3300.0</td>\n",
       "      <td>5</td>\n",
       "      <td>0</td>\n",
       "      <td>0</td>\n",
       "      <td>0</td>\n",
       "      <td>0.0</td>\n",
       "    </tr>\n",
       "    <tr>\n",
       "      <th>4</th>\n",
       "      <td>0.907239</td>\n",
       "      <td>49</td>\n",
       "      <td>1</td>\n",
       "      <td>0.024926</td>\n",
       "      <td>63588.0</td>\n",
       "      <td>7</td>\n",
       "      <td>0</td>\n",
       "      <td>1</td>\n",
       "      <td>0</td>\n",
       "      <td>0.0</td>\n",
       "    </tr>\n",
       "  </tbody>\n",
       "</table>\n",
       "</div>"
      ],
      "text/plain": [
       "   creditbalance/limits  age  no.pastdue_30-59  DebtRatio  MonthlyIncome  \\\n",
       "0              0.766127   45                 2   0.802982         9120.0   \n",
       "1              0.957151   40                 0   0.121876         2600.0   \n",
       "2              0.658180   38                 1   0.085113         3042.0   \n",
       "3              0.233810   30                 0   0.036050         3300.0   \n",
       "4              0.907239   49                 1   0.024926        63588.0   \n",
       "\n",
       "   no.of openloans  no.pasdue_90+  no.of mortgage  no.pasdue_60-89  \\\n",
       "0               13              0               6                0   \n",
       "1                4              0               0                0   \n",
       "2                2              1               0                0   \n",
       "3                5              0               0                0   \n",
       "4                7              0               1                0   \n",
       "\n",
       "   no.dependents  \n",
       "0            2.0  \n",
       "1            1.0  \n",
       "2            0.0  \n",
       "3            0.0  \n",
       "4            0.0  "
      ]
     },
     "execution_count": 49,
     "metadata": {},
     "output_type": "execute_result"
    }
   ],
   "source": [
    "x_train.head()"
   ]
  },
  {
   "cell_type": "code",
   "execution_count": 50,
   "metadata": {},
   "outputs": [],
   "source": [
    "y_train = df.iloc[:,0]"
   ]
  },
  {
   "cell_type": "code",
   "execution_count": 51,
   "metadata": {},
   "outputs": [
    {
     "data": {
      "text/plain": [
       "0    1\n",
       "1    0\n",
       "2    0\n",
       "3    0\n",
       "4    0\n",
       "Name: DL_90, dtype: int64"
      ]
     },
     "execution_count": 51,
     "metadata": {},
     "output_type": "execute_result"
    }
   ],
   "source": [
    "y_train.head()"
   ]
  },
  {
   "cell_type": "code",
   "execution_count": 52,
   "metadata": {},
   "outputs": [
    {
     "data": {
      "text/html": [
       "<div>\n",
       "<style scoped>\n",
       "    .dataframe tbody tr th:only-of-type {\n",
       "        vertical-align: middle;\n",
       "    }\n",
       "\n",
       "    .dataframe tbody tr th {\n",
       "        vertical-align: top;\n",
       "    }\n",
       "\n",
       "    .dataframe thead th {\n",
       "        text-align: right;\n",
       "    }\n",
       "</style>\n",
       "<table border=\"1\" class=\"dataframe\">\n",
       "  <thead>\n",
       "    <tr style=\"text-align: right;\">\n",
       "      <th></th>\n",
       "      <th>DL_90</th>\n",
       "      <th>creditbalance/limits</th>\n",
       "      <th>age</th>\n",
       "      <th>no.pastdue_30-59</th>\n",
       "      <th>DebtRatio</th>\n",
       "      <th>MonthlyIncome</th>\n",
       "      <th>no.of openloans</th>\n",
       "      <th>no.pasdue_90+</th>\n",
       "      <th>no.of mortgage</th>\n",
       "      <th>no.pasdue_60-89</th>\n",
       "      <th>no.dependents</th>\n",
       "    </tr>\n",
       "  </thead>\n",
       "  <tbody>\n",
       "    <tr>\n",
       "      <th>DL_90</th>\n",
       "      <td>1.000000</td>\n",
       "      <td>-0.001802</td>\n",
       "      <td>-0.115386</td>\n",
       "      <td>0.125587</td>\n",
       "      <td>-0.007602</td>\n",
       "      <td>-0.018002</td>\n",
       "      <td>-0.029669</td>\n",
       "      <td>0.117175</td>\n",
       "      <td>-0.007038</td>\n",
       "      <td>0.102261</td>\n",
       "      <td>0.045621</td>\n",
       "    </tr>\n",
       "    <tr>\n",
       "      <th>creditbalance/limits</th>\n",
       "      <td>-0.001802</td>\n",
       "      <td>1.000000</td>\n",
       "      <td>-0.005898</td>\n",
       "      <td>-0.001314</td>\n",
       "      <td>0.003961</td>\n",
       "      <td>0.006565</td>\n",
       "      <td>-0.011281</td>\n",
       "      <td>-0.001061</td>\n",
       "      <td>0.006235</td>\n",
       "      <td>-0.001048</td>\n",
       "      <td>0.001539</td>\n",
       "    </tr>\n",
       "    <tr>\n",
       "      <th>age</th>\n",
       "      <td>-0.115386</td>\n",
       "      <td>-0.005898</td>\n",
       "      <td>1.000000</td>\n",
       "      <td>-0.062995</td>\n",
       "      <td>0.024188</td>\n",
       "      <td>0.032984</td>\n",
       "      <td>0.147705</td>\n",
       "      <td>-0.061005</td>\n",
       "      <td>0.033150</td>\n",
       "      <td>-0.057159</td>\n",
       "      <td>-0.208102</td>\n",
       "    </tr>\n",
       "    <tr>\n",
       "      <th>no.pastdue_30-59</th>\n",
       "      <td>0.125587</td>\n",
       "      <td>-0.001314</td>\n",
       "      <td>-0.062995</td>\n",
       "      <td>1.000000</td>\n",
       "      <td>-0.006542</td>\n",
       "      <td>-0.007636</td>\n",
       "      <td>-0.055312</td>\n",
       "      <td>0.983603</td>\n",
       "      <td>-0.030565</td>\n",
       "      <td>0.987005</td>\n",
       "      <td>-0.002525</td>\n",
       "    </tr>\n",
       "    <tr>\n",
       "      <th>DebtRatio</th>\n",
       "      <td>-0.007602</td>\n",
       "      <td>0.003961</td>\n",
       "      <td>0.024188</td>\n",
       "      <td>-0.006542</td>\n",
       "      <td>1.000000</td>\n",
       "      <td>-0.005355</td>\n",
       "      <td>0.049565</td>\n",
       "      <td>-0.008320</td>\n",
       "      <td>0.120046</td>\n",
       "      <td>-0.007533</td>\n",
       "      <td>-0.038287</td>\n",
       "    </tr>\n",
       "    <tr>\n",
       "      <th>MonthlyIncome</th>\n",
       "      <td>-0.018002</td>\n",
       "      <td>0.006565</td>\n",
       "      <td>0.032984</td>\n",
       "      <td>-0.007636</td>\n",
       "      <td>-0.005355</td>\n",
       "      <td>1.000000</td>\n",
       "      <td>0.082319</td>\n",
       "      <td>-0.009484</td>\n",
       "      <td>0.113823</td>\n",
       "      <td>-0.008259</td>\n",
       "      <td>0.058542</td>\n",
       "    </tr>\n",
       "    <tr>\n",
       "      <th>no.of openloans</th>\n",
       "      <td>-0.029669</td>\n",
       "      <td>-0.011281</td>\n",
       "      <td>0.147705</td>\n",
       "      <td>-0.055312</td>\n",
       "      <td>0.049565</td>\n",
       "      <td>0.082319</td>\n",
       "      <td>1.000000</td>\n",
       "      <td>-0.079984</td>\n",
       "      <td>0.433959</td>\n",
       "      <td>-0.071077</td>\n",
       "      <td>0.064507</td>\n",
       "    </tr>\n",
       "    <tr>\n",
       "      <th>no.pasdue_90+</th>\n",
       "      <td>0.117175</td>\n",
       "      <td>-0.001061</td>\n",
       "      <td>-0.061005</td>\n",
       "      <td>0.983603</td>\n",
       "      <td>-0.008320</td>\n",
       "      <td>-0.009484</td>\n",
       "      <td>-0.079984</td>\n",
       "      <td>1.000000</td>\n",
       "      <td>-0.045205</td>\n",
       "      <td>0.992796</td>\n",
       "      <td>-0.009579</td>\n",
       "    </tr>\n",
       "    <tr>\n",
       "      <th>no.of mortgage</th>\n",
       "      <td>-0.007038</td>\n",
       "      <td>0.006235</td>\n",
       "      <td>0.033150</td>\n",
       "      <td>-0.030565</td>\n",
       "      <td>0.120046</td>\n",
       "      <td>0.113823</td>\n",
       "      <td>0.433959</td>\n",
       "      <td>-0.045205</td>\n",
       "      <td>1.000000</td>\n",
       "      <td>-0.039722</td>\n",
       "      <td>0.123370</td>\n",
       "    </tr>\n",
       "    <tr>\n",
       "      <th>no.pasdue_60-89</th>\n",
       "      <td>0.102261</td>\n",
       "      <td>-0.001048</td>\n",
       "      <td>-0.057159</td>\n",
       "      <td>0.987005</td>\n",
       "      <td>-0.007533</td>\n",
       "      <td>-0.008259</td>\n",
       "      <td>-0.071077</td>\n",
       "      <td>0.992796</td>\n",
       "      <td>-0.039722</td>\n",
       "      <td>1.000000</td>\n",
       "      <td>-0.010277</td>\n",
       "    </tr>\n",
       "    <tr>\n",
       "      <th>no.dependents</th>\n",
       "      <td>0.045621</td>\n",
       "      <td>0.001539</td>\n",
       "      <td>-0.208102</td>\n",
       "      <td>-0.002525</td>\n",
       "      <td>-0.038287</td>\n",
       "      <td>0.058542</td>\n",
       "      <td>0.064507</td>\n",
       "      <td>-0.009579</td>\n",
       "      <td>0.123370</td>\n",
       "      <td>-0.010277</td>\n",
       "      <td>1.000000</td>\n",
       "    </tr>\n",
       "  </tbody>\n",
       "</table>\n",
       "</div>"
      ],
      "text/plain": [
       "                         DL_90  creditbalance/limits       age  \\\n",
       "DL_90                 1.000000             -0.001802 -0.115386   \n",
       "creditbalance/limits -0.001802              1.000000 -0.005898   \n",
       "age                  -0.115386             -0.005898  1.000000   \n",
       "no.pastdue_30-59      0.125587             -0.001314 -0.062995   \n",
       "DebtRatio            -0.007602              0.003961  0.024188   \n",
       "MonthlyIncome        -0.018002              0.006565  0.032984   \n",
       "no.of openloans      -0.029669             -0.011281  0.147705   \n",
       "no.pasdue_90+         0.117175             -0.001061 -0.061005   \n",
       "no.of mortgage       -0.007038              0.006235  0.033150   \n",
       "no.pasdue_60-89       0.102261             -0.001048 -0.057159   \n",
       "no.dependents         0.045621              0.001539 -0.208102   \n",
       "\n",
       "                      no.pastdue_30-59  DebtRatio  MonthlyIncome  \\\n",
       "DL_90                         0.125587  -0.007602      -0.018002   \n",
       "creditbalance/limits         -0.001314   0.003961       0.006565   \n",
       "age                          -0.062995   0.024188       0.032984   \n",
       "no.pastdue_30-59              1.000000  -0.006542      -0.007636   \n",
       "DebtRatio                    -0.006542   1.000000      -0.005355   \n",
       "MonthlyIncome                -0.007636  -0.005355       1.000000   \n",
       "no.of openloans              -0.055312   0.049565       0.082319   \n",
       "no.pasdue_90+                 0.983603  -0.008320      -0.009484   \n",
       "no.of mortgage               -0.030565   0.120046       0.113823   \n",
       "no.pasdue_60-89               0.987005  -0.007533      -0.008259   \n",
       "no.dependents                -0.002525  -0.038287       0.058542   \n",
       "\n",
       "                      no.of openloans  no.pasdue_90+  no.of mortgage  \\\n",
       "DL_90                       -0.029669       0.117175       -0.007038   \n",
       "creditbalance/limits        -0.011281      -0.001061        0.006235   \n",
       "age                          0.147705      -0.061005        0.033150   \n",
       "no.pastdue_30-59            -0.055312       0.983603       -0.030565   \n",
       "DebtRatio                    0.049565      -0.008320        0.120046   \n",
       "MonthlyIncome                0.082319      -0.009484        0.113823   \n",
       "no.of openloans              1.000000      -0.079984        0.433959   \n",
       "no.pasdue_90+               -0.079984       1.000000       -0.045205   \n",
       "no.of mortgage               0.433959      -0.045205        1.000000   \n",
       "no.pasdue_60-89             -0.071077       0.992796       -0.039722   \n",
       "no.dependents                0.064507      -0.009579        0.123370   \n",
       "\n",
       "                      no.pasdue_60-89  no.dependents  \n",
       "DL_90                        0.102261       0.045621  \n",
       "creditbalance/limits        -0.001048       0.001539  \n",
       "age                         -0.057159      -0.208102  \n",
       "no.pastdue_30-59             0.987005      -0.002525  \n",
       "DebtRatio                   -0.007533      -0.038287  \n",
       "MonthlyIncome               -0.008259       0.058542  \n",
       "no.of openloans             -0.071077       0.064507  \n",
       "no.pasdue_90+                0.992796      -0.009579  \n",
       "no.of mortgage              -0.039722       0.123370  \n",
       "no.pasdue_60-89              1.000000      -0.010277  \n",
       "no.dependents               -0.010277       1.000000  "
      ]
     },
     "execution_count": 52,
     "metadata": {},
     "output_type": "execute_result"
    }
   ],
   "source": [
    "df.corr()"
   ]
  },
  {
   "cell_type": "markdown",
   "metadata": {},
   "source": [
    "## Data preprocessing - test data"
   ]
  },
  {
   "cell_type": "code",
   "execution_count": 21,
   "metadata": {},
   "outputs": [],
   "source": [
    "df_2 = pd.read_csv(\"cs-test.csv\",index_col = False)"
   ]
  },
  {
   "cell_type": "code",
   "execution_count": 22,
   "metadata": {},
   "outputs": [
    {
     "data": {
      "text/html": [
       "<div>\n",
       "<style scoped>\n",
       "    .dataframe tbody tr th:only-of-type {\n",
       "        vertical-align: middle;\n",
       "    }\n",
       "\n",
       "    .dataframe tbody tr th {\n",
       "        vertical-align: top;\n",
       "    }\n",
       "\n",
       "    .dataframe thead th {\n",
       "        text-align: right;\n",
       "    }\n",
       "</style>\n",
       "<table border=\"1\" class=\"dataframe\">\n",
       "  <thead>\n",
       "    <tr style=\"text-align: right;\">\n",
       "      <th></th>\n",
       "      <th>Unnamed: 0</th>\n",
       "      <th>SeriousDlqin2yrs</th>\n",
       "      <th>RevolvingUtilizationOfUnsecuredLines</th>\n",
       "      <th>age</th>\n",
       "      <th>NumberOfTime30-59DaysPastDueNotWorse</th>\n",
       "      <th>DebtRatio</th>\n",
       "      <th>MonthlyIncome</th>\n",
       "      <th>NumberOfOpenCreditLinesAndLoans</th>\n",
       "      <th>NumberOfTimes90DaysLate</th>\n",
       "      <th>NumberRealEstateLoansOrLines</th>\n",
       "      <th>NumberOfTime60-89DaysPastDueNotWorse</th>\n",
       "      <th>NumberOfDependents</th>\n",
       "    </tr>\n",
       "  </thead>\n",
       "  <tbody>\n",
       "    <tr>\n",
       "      <th>0</th>\n",
       "      <td>1</td>\n",
       "      <td>NaN</td>\n",
       "      <td>0.885519</td>\n",
       "      <td>43</td>\n",
       "      <td>0</td>\n",
       "      <td>0.177513</td>\n",
       "      <td>5700.0</td>\n",
       "      <td>4</td>\n",
       "      <td>0</td>\n",
       "      <td>0</td>\n",
       "      <td>0</td>\n",
       "      <td>0.0</td>\n",
       "    </tr>\n",
       "    <tr>\n",
       "      <th>1</th>\n",
       "      <td>2</td>\n",
       "      <td>NaN</td>\n",
       "      <td>0.463295</td>\n",
       "      <td>57</td>\n",
       "      <td>0</td>\n",
       "      <td>0.527237</td>\n",
       "      <td>9141.0</td>\n",
       "      <td>15</td>\n",
       "      <td>0</td>\n",
       "      <td>4</td>\n",
       "      <td>0</td>\n",
       "      <td>2.0</td>\n",
       "    </tr>\n",
       "    <tr>\n",
       "      <th>2</th>\n",
       "      <td>3</td>\n",
       "      <td>NaN</td>\n",
       "      <td>0.043275</td>\n",
       "      <td>59</td>\n",
       "      <td>0</td>\n",
       "      <td>0.687648</td>\n",
       "      <td>5083.0</td>\n",
       "      <td>12</td>\n",
       "      <td>0</td>\n",
       "      <td>1</td>\n",
       "      <td>0</td>\n",
       "      <td>2.0</td>\n",
       "    </tr>\n",
       "    <tr>\n",
       "      <th>3</th>\n",
       "      <td>4</td>\n",
       "      <td>NaN</td>\n",
       "      <td>0.280308</td>\n",
       "      <td>38</td>\n",
       "      <td>1</td>\n",
       "      <td>0.925961</td>\n",
       "      <td>3200.0</td>\n",
       "      <td>7</td>\n",
       "      <td>0</td>\n",
       "      <td>2</td>\n",
       "      <td>0</td>\n",
       "      <td>0.0</td>\n",
       "    </tr>\n",
       "    <tr>\n",
       "      <th>4</th>\n",
       "      <td>5</td>\n",
       "      <td>NaN</td>\n",
       "      <td>1.000000</td>\n",
       "      <td>27</td>\n",
       "      <td>0</td>\n",
       "      <td>0.019917</td>\n",
       "      <td>3865.0</td>\n",
       "      <td>4</td>\n",
       "      <td>0</td>\n",
       "      <td>0</td>\n",
       "      <td>0</td>\n",
       "      <td>1.0</td>\n",
       "    </tr>\n",
       "  </tbody>\n",
       "</table>\n",
       "</div>"
      ],
      "text/plain": [
       "   Unnamed: 0  SeriousDlqin2yrs  RevolvingUtilizationOfUnsecuredLines  age  \\\n",
       "0           1               NaN                              0.885519   43   \n",
       "1           2               NaN                              0.463295   57   \n",
       "2           3               NaN                              0.043275   59   \n",
       "3           4               NaN                              0.280308   38   \n",
       "4           5               NaN                              1.000000   27   \n",
       "\n",
       "   NumberOfTime30-59DaysPastDueNotWorse  DebtRatio  MonthlyIncome  \\\n",
       "0                                     0   0.177513         5700.0   \n",
       "1                                     0   0.527237         9141.0   \n",
       "2                                     0   0.687648         5083.0   \n",
       "3                                     1   0.925961         3200.0   \n",
       "4                                     0   0.019917         3865.0   \n",
       "\n",
       "   NumberOfOpenCreditLinesAndLoans  NumberOfTimes90DaysLate  \\\n",
       "0                                4                        0   \n",
       "1                               15                        0   \n",
       "2                               12                        0   \n",
       "3                                7                        0   \n",
       "4                                4                        0   \n",
       "\n",
       "   NumberRealEstateLoansOrLines  NumberOfTime60-89DaysPastDueNotWorse  \\\n",
       "0                             0                                     0   \n",
       "1                             4                                     0   \n",
       "2                             1                                     0   \n",
       "3                             2                                     0   \n",
       "4                             0                                     0   \n",
       "\n",
       "   NumberOfDependents  \n",
       "0                 0.0  \n",
       "1                 2.0  \n",
       "2                 2.0  \n",
       "3                 0.0  \n",
       "4                 1.0  "
      ]
     },
     "execution_count": 22,
     "metadata": {},
     "output_type": "execute_result"
    }
   ],
   "source": [
    "df_2.head()"
   ]
  },
  {
   "cell_type": "code",
   "execution_count": 23,
   "metadata": {},
   "outputs": [
    {
     "data": {
      "text/plain": [
       "Index(['Unnamed: 0', 'SeriousDlqin2yrs',\n",
       "       'RevolvingUtilizationOfUnsecuredLines', 'age',\n",
       "       'NumberOfTime30-59DaysPastDueNotWorse', 'DebtRatio', 'MonthlyIncome',\n",
       "       'NumberOfOpenCreditLinesAndLoans', 'NumberOfTimes90DaysLate',\n",
       "       'NumberRealEstateLoansOrLines', 'NumberOfTime60-89DaysPastDueNotWorse',\n",
       "       'NumberOfDependents'],\n",
       "      dtype='object')"
      ]
     },
     "execution_count": 23,
     "metadata": {},
     "output_type": "execute_result"
    }
   ],
   "source": [
    "df_2.columns"
   ]
  },
  {
   "cell_type": "code",
   "execution_count": 24,
   "metadata": {},
   "outputs": [],
   "source": [
    "df_2 = df_2.drop(['Unnamed: 0'], axis = 1)"
   ]
  },
  {
   "cell_type": "code",
   "execution_count": 25,
   "metadata": {},
   "outputs": [
    {
     "data": {
      "text/plain": [
       "Index(['SeriousDlqin2yrs', 'RevolvingUtilizationOfUnsecuredLines', 'age',\n",
       "       'NumberOfTime30-59DaysPastDueNotWorse', 'DebtRatio', 'MonthlyIncome',\n",
       "       'NumberOfOpenCreditLinesAndLoans', 'NumberOfTimes90DaysLate',\n",
       "       'NumberRealEstateLoansOrLines', 'NumberOfTime60-89DaysPastDueNotWorse',\n",
       "       'NumberOfDependents'],\n",
       "      dtype='object')"
      ]
     },
     "execution_count": 25,
     "metadata": {},
     "output_type": "execute_result"
    }
   ],
   "source": [
    "df_2.columns"
   ]
  },
  {
   "cell_type": "code",
   "execution_count": 25,
   "metadata": {},
   "outputs": [],
   "source": [
    "df_2.rename(columns = {'SeriousDlqin2yrs':'DL_90+', 'RevolvingUtilizationOfUnsecuredLines':'creditbalance/limits',\n",
    "       'NumberOfTime30-59DaysPastDueNotWorse':'no.pastdue_30-59', \n",
    "       'NumberOfOpenCreditLinesAndLoans':'no.of openloans', 'NumberOfTimes90DaysLate':'no.pasdue_90+',\n",
    "       'NumberRealEstateLoansOrLines':'no.of mortgage', 'NumberOfTime60-89DaysPastDueNotWorse':'no.pasdue_60-89',\n",
    "       'NumberOfDependents':'no.dependents'}, inplace = True)"
   ]
  },
  {
   "cell_type": "code",
   "execution_count": 26,
   "metadata": {},
   "outputs": [
    {
     "data": {
      "text/html": [
       "<div>\n",
       "<style scoped>\n",
       "    .dataframe tbody tr th:only-of-type {\n",
       "        vertical-align: middle;\n",
       "    }\n",
       "\n",
       "    .dataframe tbody tr th {\n",
       "        vertical-align: top;\n",
       "    }\n",
       "\n",
       "    .dataframe thead th {\n",
       "        text-align: right;\n",
       "    }\n",
       "</style>\n",
       "<table border=\"1\" class=\"dataframe\">\n",
       "  <thead>\n",
       "    <tr style=\"text-align: right;\">\n",
       "      <th></th>\n",
       "      <th>DL_90+</th>\n",
       "      <th>creditbalance/limits</th>\n",
       "      <th>age</th>\n",
       "      <th>no.pastdue_30-59</th>\n",
       "      <th>DebtRatio</th>\n",
       "      <th>MonthlyIncome</th>\n",
       "      <th>no.of openloans</th>\n",
       "      <th>no.pasdue_90+</th>\n",
       "      <th>no.of mortgage</th>\n",
       "      <th>no.pasdue_60-89</th>\n",
       "      <th>no.dependents</th>\n",
       "    </tr>\n",
       "  </thead>\n",
       "  <tbody>\n",
       "    <tr>\n",
       "      <th>0</th>\n",
       "      <td>NaN</td>\n",
       "      <td>0.885519</td>\n",
       "      <td>43</td>\n",
       "      <td>0</td>\n",
       "      <td>0.177513</td>\n",
       "      <td>5700.0</td>\n",
       "      <td>4</td>\n",
       "      <td>0</td>\n",
       "      <td>0</td>\n",
       "      <td>0</td>\n",
       "      <td>0.0</td>\n",
       "    </tr>\n",
       "    <tr>\n",
       "      <th>1</th>\n",
       "      <td>NaN</td>\n",
       "      <td>0.463295</td>\n",
       "      <td>57</td>\n",
       "      <td>0</td>\n",
       "      <td>0.527237</td>\n",
       "      <td>9141.0</td>\n",
       "      <td>15</td>\n",
       "      <td>0</td>\n",
       "      <td>4</td>\n",
       "      <td>0</td>\n",
       "      <td>2.0</td>\n",
       "    </tr>\n",
       "    <tr>\n",
       "      <th>2</th>\n",
       "      <td>NaN</td>\n",
       "      <td>0.043275</td>\n",
       "      <td>59</td>\n",
       "      <td>0</td>\n",
       "      <td>0.687648</td>\n",
       "      <td>5083.0</td>\n",
       "      <td>12</td>\n",
       "      <td>0</td>\n",
       "      <td>1</td>\n",
       "      <td>0</td>\n",
       "      <td>2.0</td>\n",
       "    </tr>\n",
       "    <tr>\n",
       "      <th>3</th>\n",
       "      <td>NaN</td>\n",
       "      <td>0.280308</td>\n",
       "      <td>38</td>\n",
       "      <td>1</td>\n",
       "      <td>0.925961</td>\n",
       "      <td>3200.0</td>\n",
       "      <td>7</td>\n",
       "      <td>0</td>\n",
       "      <td>2</td>\n",
       "      <td>0</td>\n",
       "      <td>0.0</td>\n",
       "    </tr>\n",
       "    <tr>\n",
       "      <th>4</th>\n",
       "      <td>NaN</td>\n",
       "      <td>1.000000</td>\n",
       "      <td>27</td>\n",
       "      <td>0</td>\n",
       "      <td>0.019917</td>\n",
       "      <td>3865.0</td>\n",
       "      <td>4</td>\n",
       "      <td>0</td>\n",
       "      <td>0</td>\n",
       "      <td>0</td>\n",
       "      <td>1.0</td>\n",
       "    </tr>\n",
       "  </tbody>\n",
       "</table>\n",
       "</div>"
      ],
      "text/plain": [
       "   DL_90+  creditbalance/limits  age  no.pastdue_30-59  DebtRatio  \\\n",
       "0     NaN              0.885519   43                 0   0.177513   \n",
       "1     NaN              0.463295   57                 0   0.527237   \n",
       "2     NaN              0.043275   59                 0   0.687648   \n",
       "3     NaN              0.280308   38                 1   0.925961   \n",
       "4     NaN              1.000000   27                 0   0.019917   \n",
       "\n",
       "   MonthlyIncome  no.of openloans  no.pasdue_90+  no.of mortgage  \\\n",
       "0         5700.0                4              0               0   \n",
       "1         9141.0               15              0               4   \n",
       "2         5083.0               12              0               1   \n",
       "3         3200.0                7              0               2   \n",
       "4         3865.0                4              0               0   \n",
       "\n",
       "   no.pasdue_60-89  no.dependents  \n",
       "0                0            0.0  \n",
       "1                0            2.0  \n",
       "2                0            2.0  \n",
       "3                0            0.0  \n",
       "4                0            1.0  "
      ]
     },
     "execution_count": 26,
     "metadata": {},
     "output_type": "execute_result"
    }
   ],
   "source": [
    "df_2.head()"
   ]
  },
  {
   "cell_type": "code",
   "execution_count": 27,
   "metadata": {},
   "outputs": [
    {
     "data": {
      "text/plain": [
       "(101503, 11)"
      ]
     },
     "execution_count": 27,
     "metadata": {},
     "output_type": "execute_result"
    }
   ],
   "source": [
    "df_2.shape"
   ]
  },
  {
   "cell_type": "markdown",
   "metadata": {},
   "source": [
    "## Taking care of missing values"
   ]
  },
  {
   "cell_type": "code",
   "execution_count": 28,
   "metadata": {},
   "outputs": [
    {
     "data": {
      "text/plain": [
       "DL_90+                  101503\n",
       "creditbalance/limits         0\n",
       "age                          0\n",
       "no.pastdue_30-59             0\n",
       "DebtRatio                    0\n",
       "MonthlyIncome            20103\n",
       "no.of openloans              0\n",
       "no.pasdue_90+                0\n",
       "no.of mortgage               0\n",
       "no.pasdue_60-89              0\n",
       "no.dependents             2626\n",
       "dtype: int64"
      ]
     },
     "execution_count": 28,
     "metadata": {},
     "output_type": "execute_result"
    }
   ],
   "source": [
    "df_2.isnull().sum()"
   ]
  },
  {
   "cell_type": "code",
   "execution_count": 29,
   "metadata": {},
   "outputs": [],
   "source": [
    "from sklearn.impute import SimpleImputer\n",
    "imputer = SimpleImputer(missing_values=np.nan,strategy=\"mean\")\n",
    "imputer.fit(df_2.loc[:,['MonthlyIncome','no.dependents']])\n",
    "df_2.loc[:,['MonthlyIncome','no.dependents']] = imputer.transform(df_2.loc[:,['MonthlyIncome','no.dependents']])"
   ]
  },
  {
   "cell_type": "code",
   "execution_count": 30,
   "metadata": {},
   "outputs": [
    {
     "data": {
      "text/plain": [
       "(101503, 11)"
      ]
     },
     "execution_count": 30,
     "metadata": {},
     "output_type": "execute_result"
    }
   ],
   "source": [
    "df_2.shape"
   ]
  },
  {
   "cell_type": "code",
   "execution_count": 31,
   "metadata": {},
   "outputs": [
    {
     "data": {
      "text/plain": [
       "DL_90+                  101503\n",
       "creditbalance/limits         0\n",
       "age                          0\n",
       "no.pastdue_30-59             0\n",
       "DebtRatio                    0\n",
       "MonthlyIncome                0\n",
       "no.of openloans              0\n",
       "no.pasdue_90+                0\n",
       "no.of mortgage               0\n",
       "no.pasdue_60-89              0\n",
       "no.dependents                0\n",
       "dtype: int64"
      ]
     },
     "execution_count": 31,
     "metadata": {},
     "output_type": "execute_result"
    }
   ],
   "source": [
    "df_2.isnull().sum()"
   ]
  },
  {
   "cell_type": "code",
   "execution_count": 32,
   "metadata": {},
   "outputs": [],
   "source": [
    "x_test = df_2.iloc[:,1:11]"
   ]
  },
  {
   "cell_type": "code",
   "execution_count": 33,
   "metadata": {},
   "outputs": [
    {
     "data": {
      "text/html": [
       "<div>\n",
       "<style scoped>\n",
       "    .dataframe tbody tr th:only-of-type {\n",
       "        vertical-align: middle;\n",
       "    }\n",
       "\n",
       "    .dataframe tbody tr th {\n",
       "        vertical-align: top;\n",
       "    }\n",
       "\n",
       "    .dataframe thead th {\n",
       "        text-align: right;\n",
       "    }\n",
       "</style>\n",
       "<table border=\"1\" class=\"dataframe\">\n",
       "  <thead>\n",
       "    <tr style=\"text-align: right;\">\n",
       "      <th></th>\n",
       "      <th>creditbalance/limits</th>\n",
       "      <th>age</th>\n",
       "      <th>no.pastdue_30-59</th>\n",
       "      <th>DebtRatio</th>\n",
       "      <th>MonthlyIncome</th>\n",
       "      <th>no.of openloans</th>\n",
       "      <th>no.pasdue_90+</th>\n",
       "      <th>no.of mortgage</th>\n",
       "      <th>no.pasdue_60-89</th>\n",
       "      <th>no.dependents</th>\n",
       "    </tr>\n",
       "  </thead>\n",
       "  <tbody>\n",
       "    <tr>\n",
       "      <th>0</th>\n",
       "      <td>0.885519</td>\n",
       "      <td>43</td>\n",
       "      <td>0</td>\n",
       "      <td>0.177513</td>\n",
       "      <td>5700.0</td>\n",
       "      <td>4</td>\n",
       "      <td>0</td>\n",
       "      <td>0</td>\n",
       "      <td>0</td>\n",
       "      <td>0.0</td>\n",
       "    </tr>\n",
       "    <tr>\n",
       "      <th>1</th>\n",
       "      <td>0.463295</td>\n",
       "      <td>57</td>\n",
       "      <td>0</td>\n",
       "      <td>0.527237</td>\n",
       "      <td>9141.0</td>\n",
       "      <td>15</td>\n",
       "      <td>0</td>\n",
       "      <td>4</td>\n",
       "      <td>0</td>\n",
       "      <td>2.0</td>\n",
       "    </tr>\n",
       "    <tr>\n",
       "      <th>2</th>\n",
       "      <td>0.043275</td>\n",
       "      <td>59</td>\n",
       "      <td>0</td>\n",
       "      <td>0.687648</td>\n",
       "      <td>5083.0</td>\n",
       "      <td>12</td>\n",
       "      <td>0</td>\n",
       "      <td>1</td>\n",
       "      <td>0</td>\n",
       "      <td>2.0</td>\n",
       "    </tr>\n",
       "    <tr>\n",
       "      <th>3</th>\n",
       "      <td>0.280308</td>\n",
       "      <td>38</td>\n",
       "      <td>1</td>\n",
       "      <td>0.925961</td>\n",
       "      <td>3200.0</td>\n",
       "      <td>7</td>\n",
       "      <td>0</td>\n",
       "      <td>2</td>\n",
       "      <td>0</td>\n",
       "      <td>0.0</td>\n",
       "    </tr>\n",
       "    <tr>\n",
       "      <th>4</th>\n",
       "      <td>1.000000</td>\n",
       "      <td>27</td>\n",
       "      <td>0</td>\n",
       "      <td>0.019917</td>\n",
       "      <td>3865.0</td>\n",
       "      <td>4</td>\n",
       "      <td>0</td>\n",
       "      <td>0</td>\n",
       "      <td>0</td>\n",
       "      <td>1.0</td>\n",
       "    </tr>\n",
       "  </tbody>\n",
       "</table>\n",
       "</div>"
      ],
      "text/plain": [
       "   creditbalance/limits  age  no.pastdue_30-59  DebtRatio  MonthlyIncome  \\\n",
       "0              0.885519   43                 0   0.177513         5700.0   \n",
       "1              0.463295   57                 0   0.527237         9141.0   \n",
       "2              0.043275   59                 0   0.687648         5083.0   \n",
       "3              0.280308   38                 1   0.925961         3200.0   \n",
       "4              1.000000   27                 0   0.019917         3865.0   \n",
       "\n",
       "   no.of openloans  no.pasdue_90+  no.of mortgage  no.pasdue_60-89  \\\n",
       "0                4              0               0                0   \n",
       "1               15              0               4                0   \n",
       "2               12              0               1                0   \n",
       "3                7              0               2                0   \n",
       "4                4              0               0                0   \n",
       "\n",
       "   no.dependents  \n",
       "0            0.0  \n",
       "1            2.0  \n",
       "2            2.0  \n",
       "3            0.0  \n",
       "4            1.0  "
      ]
     },
     "execution_count": 33,
     "metadata": {},
     "output_type": "execute_result"
    }
   ],
   "source": [
    "x_test.head()"
   ]
  },
  {
   "cell_type": "code",
   "execution_count": 34,
   "metadata": {},
   "outputs": [],
   "source": [
    "y_test = df_2.iloc[:,0]"
   ]
  },
  {
   "cell_type": "code",
   "execution_count": 35,
   "metadata": {},
   "outputs": [
    {
     "data": {
      "text/plain": [
       "0   NaN\n",
       "1   NaN\n",
       "2   NaN\n",
       "3   NaN\n",
       "4   NaN\n",
       "Name: DL_90+, dtype: float64"
      ]
     },
     "execution_count": 35,
     "metadata": {},
     "output_type": "execute_result"
    }
   ],
   "source": [
    "y_test.head()"
   ]
  },
  {
   "cell_type": "markdown",
   "metadata": {},
   "source": [
    "## Scaling the values"
   ]
  },
  {
   "cell_type": "code",
   "execution_count": 36,
   "metadata": {},
   "outputs": [],
   "source": [
    "from sklearn.preprocessing import StandardScaler\n",
    "sc = StandardScaler()\n",
    "x_train = sc.fit_transform(x_train)\n",
    "x_test = sc.transform(x_test)"
   ]
  },
  {
   "cell_type": "code",
   "execution_count": 37,
   "metadata": {},
   "outputs": [
    {
     "name": "stdout",
     "output_type": "stream",
     "text": [
      "[[-0.02115001 -0.49385982  0.37659296 ...  4.40954554 -0.05785249\n",
      "   1.12938692]\n",
      " [-0.02038516 -0.83234222 -0.10041896 ... -0.90128301 -0.05785249\n",
      "   0.22062674]\n",
      " [-0.02158222 -0.96773518  0.138087   ... -0.90128301 -0.05785249\n",
      "  -0.68813345]\n",
      " ...\n",
      " [-0.02323239  0.38619443 -0.10041896 ... -0.01614492 -0.05785249\n",
      "  -0.68813345]\n",
      " [-0.02421753 -1.50930703 -0.10041896 ... -0.90128301 -0.05785249\n",
      "  -0.68813345]\n",
      " [-0.02081306  0.79237332 -0.10041896 ...  0.86899317 -0.05785249\n",
      "  -0.68813345]]\n"
     ]
    }
   ],
   "source": [
    "print(x_train)"
   ]
  },
  {
   "cell_type": "code",
   "execution_count": 38,
   "metadata": {},
   "outputs": [
    {
     "name": "stdout",
     "output_type": "stream",
     "text": [
      "[[-0.02067197 -0.62925278 -0.10041896 ... -0.90128301 -0.05785249\n",
      "  -0.68813345]\n",
      " [-0.02236253  0.31849795 -0.10041896 ...  2.63926936 -0.05785249\n",
      "   1.12938692]\n",
      " [-0.02404426  0.45389091 -0.10041896 ... -0.01614492 -0.05785249\n",
      "   1.12938692]\n",
      " ...\n",
      " [-0.02389082  1.1985522  -0.10041896 ... -0.90128301 -0.05785249\n",
      "   0.01074529]\n",
      " [-0.02287439  0.25080147 -0.10041896 ...  0.86899317  0.18281181\n",
      "   2.03814711]\n",
      " [-0.02244843 -1.57700351 -0.10041896 ... -0.90128301 -0.05785249\n",
      "  -0.68813345]]\n"
     ]
    }
   ],
   "source": [
    "print(x_test)"
   ]
  },
  {
   "cell_type": "markdown",
   "metadata": {},
   "source": [
    "## Training the Random Forest Classification model on the Training set"
   ]
  },
  {
   "cell_type": "code",
   "execution_count": 39,
   "metadata": {},
   "outputs": [
    {
     "data": {
      "text/plain": [
       "RandomForestClassifier(criterion='entropy', n_estimators=10, random_state=0)"
      ]
     },
     "execution_count": 39,
     "metadata": {},
     "output_type": "execute_result"
    }
   ],
   "source": [
    "from sklearn.ensemble import RandomForestClassifier\n",
    "classifier = RandomForestClassifier(n_estimators = 10, criterion = 'entropy', random_state = 0)\n",
    "classifier.fit(x_train, y_train)"
   ]
  },
  {
   "cell_type": "markdown",
   "metadata": {},
   "source": [
    "## Predicting new result"
   ]
  },
  {
   "cell_type": "code",
   "execution_count": 40,
   "metadata": {},
   "outputs": [
    {
     "name": "stdout",
     "output_type": "stream",
     "text": [
      "[0]\n"
     ]
    },
    {
     "name": "stderr",
     "output_type": "stream",
     "text": [
      "/opt/anaconda3/lib/python3.7/site-packages/sklearn/base.py:451: UserWarning: X does not have valid feature names, but StandardScaler was fitted with feature names\n",
      "  \"X does not have valid feature names, but\"\n"
     ]
    }
   ],
   "source": [
    "#df.iloc[1:2,:]\n",
    "print(classifier.predict(sc.transform([[0.957151,40,0,0.121876,2600.0,4,0,0,0,1.0]])))"
   ]
  },
  {
   "cell_type": "markdown",
   "metadata": {},
   "source": [
    "## Predicting the test set result"
   ]
  },
  {
   "cell_type": "code",
   "execution_count": 41,
   "metadata": {},
   "outputs": [],
   "source": [
    "y_pred = classifier.predict(x_test)"
   ]
  },
  {
   "cell_type": "code",
   "execution_count": 42,
   "metadata": {},
   "outputs": [
    {
     "data": {
      "text/plain": [
       "array([[0],\n",
       "       [0],\n",
       "       [0],\n",
       "       ...,\n",
       "       [0],\n",
       "       [0],\n",
       "       [0]])"
      ]
     },
     "execution_count": 42,
     "metadata": {},
     "output_type": "execute_result"
    }
   ],
   "source": [
    "y_pred.reshape(len(y_pred),1)"
   ]
  },
  {
   "cell_type": "code",
   "execution_count": 43,
   "metadata": {},
   "outputs": [],
   "source": [
    "y_pred = pd.DataFrame(y_pred)"
   ]
  },
  {
   "cell_type": "code",
   "execution_count": 44,
   "metadata": {},
   "outputs": [],
   "source": [
    "x_test = pd.DataFrame(x_test)"
   ]
  },
  {
   "cell_type": "code",
   "execution_count": 45,
   "metadata": {},
   "outputs": [],
   "source": [
    "result = pd.concat([y_pred,x_test],axis = 1)"
   ]
  },
  {
   "cell_type": "code",
   "execution_count": 46,
   "metadata": {},
   "outputs": [
    {
     "data": {
      "text/html": [
       "<div>\n",
       "<style scoped>\n",
       "    .dataframe tbody tr th:only-of-type {\n",
       "        vertical-align: middle;\n",
       "    }\n",
       "\n",
       "    .dataframe tbody tr th {\n",
       "        vertical-align: top;\n",
       "    }\n",
       "\n",
       "    .dataframe thead th {\n",
       "        text-align: right;\n",
       "    }\n",
       "</style>\n",
       "<table border=\"1\" class=\"dataframe\">\n",
       "  <thead>\n",
       "    <tr style=\"text-align: right;\">\n",
       "      <th></th>\n",
       "      <th>0</th>\n",
       "      <th>0</th>\n",
       "      <th>1</th>\n",
       "      <th>2</th>\n",
       "      <th>3</th>\n",
       "      <th>4</th>\n",
       "      <th>5</th>\n",
       "      <th>6</th>\n",
       "      <th>7</th>\n",
       "      <th>8</th>\n",
       "      <th>9</th>\n",
       "    </tr>\n",
       "  </thead>\n",
       "  <tbody>\n",
       "    <tr>\n",
       "      <th>0</th>\n",
       "      <td>0</td>\n",
       "      <td>-0.020672</td>\n",
       "      <td>-0.629253</td>\n",
       "      <td>-0.100419</td>\n",
       "      <td>-0.173140</td>\n",
       "      <td>-0.075325</td>\n",
       "      <td>-0.865297</td>\n",
       "      <td>-0.063793</td>\n",
       "      <td>-0.901283</td>\n",
       "      <td>-0.057852</td>\n",
       "      <td>-0.688133</td>\n",
       "    </tr>\n",
       "    <tr>\n",
       "      <th>1</th>\n",
       "      <td>0</td>\n",
       "      <td>-0.022363</td>\n",
       "      <td>0.318498</td>\n",
       "      <td>-0.100419</td>\n",
       "      <td>-0.172969</td>\n",
       "      <td>0.191825</td>\n",
       "      <td>1.272313</td>\n",
       "      <td>-0.063793</td>\n",
       "      <td>2.639269</td>\n",
       "      <td>-0.057852</td>\n",
       "      <td>1.129387</td>\n",
       "    </tr>\n",
       "    <tr>\n",
       "      <th>2</th>\n",
       "      <td>0</td>\n",
       "      <td>-0.024044</td>\n",
       "      <td>0.453891</td>\n",
       "      <td>-0.100419</td>\n",
       "      <td>-0.172890</td>\n",
       "      <td>-0.123228</td>\n",
       "      <td>0.689329</td>\n",
       "      <td>-0.063793</td>\n",
       "      <td>-0.016145</td>\n",
       "      <td>-0.057852</td>\n",
       "      <td>1.129387</td>\n",
       "    </tr>\n",
       "    <tr>\n",
       "      <th>3</th>\n",
       "      <td>0</td>\n",
       "      <td>-0.023095</td>\n",
       "      <td>-0.967735</td>\n",
       "      <td>0.138087</td>\n",
       "      <td>-0.172773</td>\n",
       "      <td>-0.269419</td>\n",
       "      <td>-0.282312</td>\n",
       "      <td>-0.063793</td>\n",
       "      <td>0.868993</td>\n",
       "      <td>-0.057852</td>\n",
       "      <td>-0.688133</td>\n",
       "    </tr>\n",
       "    <tr>\n",
       "      <th>4</th>\n",
       "      <td>0</td>\n",
       "      <td>-0.020214</td>\n",
       "      <td>-1.712396</td>\n",
       "      <td>-0.100419</td>\n",
       "      <td>-0.173218</td>\n",
       "      <td>-0.217790</td>\n",
       "      <td>-0.865297</td>\n",
       "      <td>-0.063793</td>\n",
       "      <td>-0.901283</td>\n",
       "      <td>-0.057852</td>\n",
       "      <td>0.220627</td>\n",
       "    </tr>\n",
       "  </tbody>\n",
       "</table>\n",
       "</div>"
      ],
      "text/plain": [
       "   0         0         1         2         3         4         5         6  \\\n",
       "0  0 -0.020672 -0.629253 -0.100419 -0.173140 -0.075325 -0.865297 -0.063793   \n",
       "1  0 -0.022363  0.318498 -0.100419 -0.172969  0.191825  1.272313 -0.063793   \n",
       "2  0 -0.024044  0.453891 -0.100419 -0.172890 -0.123228  0.689329 -0.063793   \n",
       "3  0 -0.023095 -0.967735  0.138087 -0.172773 -0.269419 -0.282312 -0.063793   \n",
       "4  0 -0.020214 -1.712396 -0.100419 -0.173218 -0.217790 -0.865297 -0.063793   \n",
       "\n",
       "          7         8         9  \n",
       "0 -0.901283 -0.057852 -0.688133  \n",
       "1  2.639269 -0.057852  1.129387  \n",
       "2 -0.016145 -0.057852  1.129387  \n",
       "3  0.868993 -0.057852 -0.688133  \n",
       "4 -0.901283 -0.057852  0.220627  "
      ]
     },
     "execution_count": 46,
     "metadata": {},
     "output_type": "execute_result"
    }
   ],
   "source": [
    "result.head()"
   ]
  },
  {
   "cell_type": "code",
   "execution_count": null,
   "metadata": {},
   "outputs": [],
   "source": []
  }
 ],
 "metadata": {
  "kernelspec": {
   "display_name": "Python 3",
   "language": "python",
   "name": "python3"
  },
  "language_info": {
   "codemirror_mode": {
    "name": "ipython",
    "version": 3
   },
   "file_extension": ".py",
   "mimetype": "text/x-python",
   "name": "python",
   "nbconvert_exporter": "python",
   "pygments_lexer": "ipython3",
   "version": "3.7.6"
  }
 },
 "nbformat": 4,
 "nbformat_minor": 4
}
